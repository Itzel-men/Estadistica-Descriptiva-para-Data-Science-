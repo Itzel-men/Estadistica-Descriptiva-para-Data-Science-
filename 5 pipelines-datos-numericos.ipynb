{
 "cells": [
  {
   "cell_type": "markdown",
   "source": "# Pipelines de procesamiento para variables numéricas\n\nVamos a usar la estadística descriptiva para el procesamiento de datos, pre modelo de ML o modelo predictivo.\n\n## Escalamiento lineal\n\n* **¿Por qué usarlos?** Es necesario escalar o normalizar los datos antes de pasarlos por un modelo de machine learning, pues estos modelos son eficientes porque los optimizadores para los cuales están diseñados, son optimos en la medida en que todos los atributos que consumen el modelo tienen las mismas dimensiones. Típicamente son eficientes en el rango $[-1,1]$, ese es el estándar. Lo ideal es transformar los datos a ese rango.\n\n* **¿Hay diferentes tipos?** Los diferentes tipos se utlizan de acuerdo a lo que queremos hacer con el modelo, pero los escalamientos lineales los usamos típicamente cuando nuestros datos están uniformemente distribuidos o que los datas son simétricos. Algunos son: max-min, Clipping, Z-score, Winsorizing, etc.\n\n* **¿Cuándo usarlos?** Cuando tenemos datos simétricos o uniformemente distribuidos.\n\n### Tipos de escalamiento:\n\n* **min-max**: Dada los datos, vamos a tener un valor **min** y un valor **max**. Cada dato que tenemos, se tiene que transformar a un dato normalizado $x \\rightarrow x_{s}$, este se obtiene de:\n\n$$x_{s} = \\frac{2x- min - max}{max - min}$$\n\n* **Clipping**: Tomamos la distribución y vamos a cortar todos los datos entre dos valores límite y asumimos que los datos dentro de los límites permanecen igual y los que quedan fuera serán colapsados.\n\n$$x_{s} \\in [lim \\_ inf, lim \\_ sup] \\rightarrow x_{s}$$\n\n$$x_{s} < lim \\_ inf \\rightarrow x_{s} = lim \\_ inf$$\n\n$$x_{s} > lim \\_ sup \\rightarrow x_{s} = lim \\_ sup$$\n\nLos extremos se pueden tomar de forma arbitraria o se pueden utilizar los percentiles. Cuando usamos los percentiles se llama de **Winzoridig**.\n\nEn muchos casos no se trabaja con este método de normalización porque estamos omitiendo datos que posiblemente sí nos están funcionando aunque sean outliers.\n\n* **Z-Score**: Dado un conjunto de datos $\\{x_{1}, \\ldots, x_{n}\\}$ calculamos $\\mu$ y $\\sigma$. Asumimos que tienen una distribución normal.\n\n$$x_{s} = \\frac{x - \\mu}{\\sigma}$$\n\nEsta transformación sigue siendo una distribución normal con promedio 0 y una desviación estándar de 1.",
   "metadata": {
    "cell_id": "b17280d8-3473-4105-bc0c-83b8dbe73daf",
    "tags": [],
    "deepnote_cell_height": 965.8125,
    "deepnote_cell_type": "markdown"
   }
  },
  {
   "cell_type": "markdown",
   "source": "## Escalamiento lineal de datos numéricos en Python\n\nCargamos las librerias a utilizar:\n* **timeit**: Libreria para medir el tiempo de ejecución de los modelos\n* **sklearn**: De la libreria sklearn importamos la función *datasets* que nos va a permitir descargar un dataset y la función *linear_model* que nos va a permitir hacer una regresión lineal sencilla para validar el efecto de transformar los datos.",
   "metadata": {
    "cell_id": "71534b10-bac7-4240-88e9-295c61d6df86",
    "tags": [],
    "deepnote_cell_height": 206.5625,
    "deepnote_cell_type": "markdown"
   }
  },
  {
   "cell_type": "code",
   "metadata": {
    "cell_id": "41949d48-3131-4ce3-b269-8d51006d557d",
    "tags": [],
    "deepnote_cell_height": 153,
    "deepnote_to_be_reexecuted": false,
    "source_hash": "40da606b",
    "execution_start": 1645131279276,
    "execution_millis": 4617,
    "deepnote_cell_type": "code"
   },
   "source": "import timeit \nimport numpy as np\nimport pandas as pd\nimport matplotlib.pyplot as plt\nfrom sklearn import datasets, linear_model ",
   "execution_count": null,
   "outputs": []
  },
  {
   "cell_type": "markdown",
   "source": "Cargamos un dataset sobre diabetes, los detalles del dataset [aquí](https://scikit-learn.org/stable/modules/generated/sklearn.datasets.load_diabetes.html).\n\n* Con \n````\nX, y = X, y = datasets.load_diabetes(return_X_y=True)\n````\n\nobtenemos $X=data$ y $y = target$.\n\n* $X$ tiene dimensiones $(442,10)$, para nuestro estudio necesitamos una columna, buscamos que `raw`tenga dimensiones $(442,2)$, entonces de la línea siguiente\n````\nraw = X[:, None, 2]\n````\n\n1. `:` tomamos todas las columnas y filas.\n2. `None` es lo mismo que `np.newaxis`, lo que hace es incrementar la dimensión, es decir\n    - Convertir un array 1D en un array 2D\n    - Convertir un array 2D en un array 3D\n    Podemos encontrar algunos ejemplos [aquí](https://stackoverflow.com/questions/29241056/how-does-numpy-newaxis-work-and-when-to-use-it).\n3. `2`Seleccionamos la tercera columna de $X$.",
   "metadata": {
    "cell_id": "148d2c41-386b-49a0-b72e-97aca66b86c0",
    "tags": [],
    "deepnote_cell_height": 456.890625,
    "deepnote_cell_type": "markdown"
   }
  },
  {
   "cell_type": "code",
   "metadata": {
    "cell_id": "4ca82eec-3cb0-48e5-823a-2c6097468766",
    "tags": [],
    "deepnote_cell_height": 154.1875,
    "deepnote_to_be_reexecuted": false,
    "source_hash": "6e929737",
    "execution_start": 1645124270300,
    "execution_millis": 9,
    "deepnote_output_heights": [
     21.1875
    ],
    "deepnote_cell_type": "code"
   },
   "source": "X, y = datasets.load_diabetes(return_X_y=True)\nraw = X[:, None, 2]\nraw.shape",
   "execution_count": null,
   "outputs": [
    {
     "output_type": "execute_result",
     "execution_count": 5,
     "data": {
      "text/plain": "(442, 1)"
     },
     "metadata": {}
    }
   ]
  },
  {
   "cell_type": "markdown",
   "source": "### Reglas de escalamiento:\n\n#### min-max",
   "metadata": {
    "cell_id": "af27d3cc-c31c-43ed-9630-c663f36610a1",
    "tags": [],
    "deepnote_cell_height": 102,
    "deepnote_cell_type": "markdown"
   }
  },
  {
   "cell_type": "code",
   "metadata": {
    "cell_id": "52beeb6c-a1e2-4e0c-949f-00f1efef45b0",
    "tags": [],
    "deepnote_cell_height": 153,
    "deepnote_to_be_reexecuted": false,
    "source_hash": "dc21c75",
    "execution_start": 1645124378888,
    "execution_millis": 0,
    "deepnote_cell_type": "code"
   },
   "source": "#Regla de escalamiento:\n\nmax_raw = max(raw)\nmin_raw = min(raw)\nscaled = (2*raw - max_raw - min_raw)/(max_raw - min_raw)",
   "execution_count": null,
   "outputs": []
  },
  {
   "cell_type": "markdown",
   "source": "Para hacer una regla de escalamiento debemos de tener noción de cuál es la distribución de los datos. Vamos a hacer una gráfica de los datos originales versus los datos escalados.\n\nSe observa que los datos escalados se encuentran en $[-1,1]$, aunque la distribución no es exactamente una gaussiana.",
   "metadata": {
    "cell_id": "4ea82035-a7e9-4a5e-90dc-b170e27c6015",
    "tags": [],
    "deepnote_cell_height": 111.171875,
    "deepnote_cell_type": "markdown"
   }
  },
  {
   "cell_type": "code",
   "metadata": {
    "cell_id": "cb90ef5f-39dd-4af2-9f1f-d3e82aa688e2",
    "tags": [],
    "deepnote_cell_height": 475.5625,
    "deepnote_to_be_reexecuted": false,
    "source_hash": "fe379dd9",
    "execution_start": 1645124651892,
    "execution_millis": 544,
    "deepnote_output_heights": [
     59.5625,
     252
    ],
    "deepnote_cell_type": "code"
   },
   "source": "fig, axs = plt.subplots(2, 1, sharex=True)\naxs[0].hist(raw)\naxs[1].hist(scaled)",
   "execution_count": null,
   "outputs": [
    {
     "output_type": "execute_result",
     "execution_count": 10,
     "data": {
      "text/plain": "(array([32., 66., 98., 90., 64., 50., 23., 12.,  5.,  2.]),\n array([-1. , -0.8, -0.6, -0.4, -0.2,  0. ,  0.2,  0.4,  0.6,  0.8,  1. ]),\n <BarContainer object of 10 artists>)"
     },
     "metadata": {}
    },
    {
     "data": {
      "text/plain": "<Figure size 432x288 with 2 Axes>",
      "image/png": "[encoded data removed]"
     },
     "metadata": {
      "needs_background": "light",
      "image/png": {
       "width": 375,
       "height": 250
      }
     },
     "output_type": "display_data"
    }
   ]
  },
  {
   "cell_type": "markdown",
   "source": "Se validará que al entrenar un modelo, el efecto del escalamiento sea el apropiado. Definiremos una función que se encargará de entrenar el modelo. Esta función toma **linear_model** que se importa de sklearn, de ahí un modelo de regresión lineal y que ese modelo lo ajuste a los datos `raw`y `y`, donde la última es la variable a predecir, suponiendo un modelo.\n\nDespués, se define una función para medir el entrenamiento.",
   "metadata": {
    "cell_id": "41cbae8a-3da0-4b4c-b679-f29e60f0a091",
    "tags": [],
    "deepnote_cell_height": 133.5625,
    "deepnote_cell_type": "markdown"
   }
  },
  {
   "cell_type": "code",
   "metadata": {
    "cell_id": "a9695604-a809-44ff-a2d7-1c94849f83ea",
    "tags": [],
    "deepnote_cell_height": 135,
    "deepnote_to_be_reexecuted": false,
    "source_hash": "fa950259",
    "execution_start": 1645125177044,
    "execution_millis": 0,
    "deepnote_cell_type": "code"
   },
   "source": "# modelos para entrenamiento, definiremos una función que se encargará de entrenar el modelo\n\ndef train_raw():\n    linear_model.LinearRegression().fit(raw,y,)",
   "execution_count": null,
   "outputs": []
  },
  {
   "cell_type": "code",
   "metadata": {
    "cell_id": "7c625960-d683-42f1-8f4f-4bac333081a7",
    "tags": [],
    "deepnote_cell_height": 99,
    "deepnote_to_be_reexecuted": false,
    "source_hash": "f3ad37ca",
    "execution_start": 1645126595094,
    "execution_millis": 0,
    "deepnote_cell_type": "code"
   },
   "source": "def train_scaled():\n    linear_model.LinearRegression().fit(scaled,y,)",
   "execution_count": null,
   "outputs": []
  },
  {
   "cell_type": "markdown",
   "source": "Medimos ahora el tiempo de ejecución, lo hacemos con el atributo *timeit* de la función timeit, repitiendo la ejecución 100 veces para calcular el tiempo.",
   "metadata": {
    "cell_id": "840b5b06-660a-4fc7-9bc6-35cbd10ff229",
    "tags": [],
    "deepnote_cell_height": 74.78125,
    "deepnote_cell_type": "markdown"
   }
  },
  {
   "cell_type": "code",
   "metadata": {
    "cell_id": "27276740-2baf-49d6-8554-e56c2840ba75",
    "tags": [],
    "deepnote_cell_height": 186.375,
    "deepnote_to_be_reexecuted": false,
    "source_hash": "e3b426df",
    "execution_start": 1645126607468,
    "execution_millis": 62,
    "deepnote_cell_type": "code"
   },
   "source": "raw_time = timeit.timeit(train_raw, number = 100)\nscaled_time = timeit.timeit(train_scaled, number = 100)\n\nprint('train_raw : {}\\ntrain_scaled : {}'.format(raw_time,scaled_time))",
   "execution_count": null,
   "outputs": [
    {
     "name": "stdout",
     "text": "train_raw : 0.08350455600884743\ntrain_scaled : 0.044173098998726346\n",
     "output_type": "stream"
    }
   ]
  },
  {
   "cell_type": "markdown",
   "source": "El efecto de escalar datos sí contribuye a que el algoritmo tenga una mejor convergencia.\n\n* **max-min scaling:** mejor para datos uniformemente distribuidos.\n* **z-score scaling**: mejor para datos distribuidos normalmente (forma de campana de gauss).\n\n#### z-score",
   "metadata": {
    "cell_id": "3f956e1e-1fc2-4c58-9df6-38ebcad4081b",
    "tags": [],
    "deepnote_cell_height": 294.171875,
    "deepnote_cell_type": "markdown"
   }
  },
  {
   "cell_type": "code",
   "metadata": {
    "cell_id": "85067bcb-798a-492e-9384-76ba189975ab",
    "tags": [],
    "deepnote_cell_height": 171,
    "deepnote_to_be_reexecuted": false,
    "source_hash": "f410bb89",
    "execution_start": 1645126243855,
    "execution_millis": 3,
    "deepnote_cell_type": "code"
   },
   "source": "# regla de escalamiento\n\nmu = np.average(raw)\nsigma = np.std(raw)\n\nz_scaled = (raw - mu ) / sigma",
   "execution_count": null,
   "outputs": []
  },
  {
   "cell_type": "code",
   "metadata": {
    "cell_id": "6d65ef97-0c32-4791-b9be-b8ecf7b4dc2a",
    "tags": [],
    "deepnote_to_be_reexecuted": false,
    "source_hash": "72d786da",
    "execution_start": 1645126744534,
    "execution_millis": 315,
    "deepnote_output_heights": [
     97.9375,
     252
    ],
    "deepnote_cell_height": 513.9375,
    "deepnote_cell_type": "code"
   },
   "source": "fig, axs = plt.subplots(2, 1, sharex=True)\naxs[0].hist(raw)\naxs[1].hist(z_scaled)",
   "execution_count": null,
   "outputs": [
    {
     "output_type": "execute_result",
     "execution_count": 34,
     "data": {
      "text/plain": "(array([32., 66., 98., 90., 64., 50., 23., 12.,  5.,  2.]),\n array([-1.89792941, -1.34956464, -0.80119987, -0.2528351 ,  0.29552967,\n         0.84389444,  1.39225921,  1.94062398,  2.48898875,  3.03735352,\n         3.58571828]),\n <BarContainer object of 10 artists>)"
     },
     "metadata": {}
    },
    {
     "data": {
      "text/plain": "<Figure size 432x288 with 2 Axes>",
      "image/png": "[encoded data removed]"
     },
     "metadata": {
      "needs_background": "light",
      "image/png": {
       "width": 375,
       "height": 250
      }
     },
     "output_type": "display_data"
    }
   ]
  },
  {
   "cell_type": "code",
   "metadata": {
    "cell_id": "38756b41-1c21-4507-8a36-e6d9cd0b0420",
    "tags": [],
    "deepnote_cell_height": 99,
    "deepnote_to_be_reexecuted": false,
    "source_hash": "f6e3b2b3",
    "execution_start": 1645126644462,
    "execution_millis": 1,
    "deepnote_cell_type": "code"
   },
   "source": "def train_z_scaled():\n    linear_model.LinearRegression().fit(z_scaled,y,)",
   "execution_count": null,
   "outputs": []
  },
  {
   "cell_type": "code",
   "metadata": {
    "cell_id": "42d77f01-8bef-43d2-a4d6-00a7716716e6",
    "tags": [],
    "deepnote_cell_height": 186.375,
    "deepnote_to_be_reexecuted": false,
    "source_hash": "4aa739db",
    "execution_start": 1645126680916,
    "execution_millis": 143,
    "deepnote_cell_type": "code"
   },
   "source": "raw_time = timeit.timeit(train_raw, number = 100)\nz_scaled_time = timeit.timeit(train_z_scaled, number = 100)\n\nprint('train_raw : {}\\ntrain_scaled : {}'.format(raw_time,z_scaled_time))",
   "execution_count": null,
   "outputs": [
    {
     "name": "stdout",
     "text": "train_raw : 0.07726059800188523\ntrain_scaled : 0.06962709699291736\n",
     "output_type": "stream"
    }
   ]
  },
  {
   "cell_type": "markdown",
   "source": "### min-max vs z-score\n\nObservemos los histogramas y los tiempos de ejecución:",
   "metadata": {
    "cell_id": "a30dde14-7d51-4a80-8349-1e760a5ba2be",
    "tags": [],
    "deepnote_cell_height": 100.390625,
    "deepnote_cell_type": "markdown"
   }
  },
  {
   "cell_type": "code",
   "metadata": {
    "cell_id": "84b1f8be-1f2a-49b8-8a70-371270f2dc1d",
    "tags": [],
    "deepnote_cell_height": 532.9375,
    "deepnote_to_be_reexecuted": false,
    "source_hash": "229e796c",
    "execution_start": 1645126751031,
    "execution_millis": 761,
    "deepnote_output_heights": [
     97.9375,
     253
    ],
    "deepnote_cell_type": "code"
   },
   "source": "fig, axs = plt.subplots(3, 1, sharex=True)\naxs[0].hist(raw)\naxs[1].hist(scaled)\naxs[2].hist(z_scaled)",
   "execution_count": null,
   "outputs": [
    {
     "output_type": "execute_result",
     "execution_count": 35,
     "data": {
      "text/plain": "(array([32., 66., 98., 90., 64., 50., 23., 12.,  5.,  2.]),\n array([-1.89792941, -1.34956464, -0.80119987, -0.2528351 ,  0.29552967,\n         0.84389444,  1.39225921,  1.94062398,  2.48898875,  3.03735352,\n         3.58571828]),\n <BarContainer object of 10 artists>)"
     },
     "metadata": {}
    },
    {
     "data": {
      "text/plain": "<Figure size 432x288 with 3 Axes>",
      "image/png": "[encoded data removed]"
     },
     "metadata": {
      "needs_background": "light",
      "image/png": {
       "width": 375,
       "height": 251
      }
     },
     "output_type": "display_data"
    }
   ]
  },
  {
   "cell_type": "code",
   "metadata": {
    "cell_id": "87edf3a4-120b-43c8-8d02-f65efe1bcbe0",
    "tags": [],
    "deepnote_cell_height": 224.5625,
    "deepnote_to_be_reexecuted": false,
    "source_hash": "287f0599",
    "execution_start": 1645126875420,
    "execution_millis": 113,
    "deepnote_cell_type": "code"
   },
   "source": "raw_time = timeit.timeit(train_raw, number = 100)\nscaled_time = timeit.timeit(train_scaled, number = 100)\nz_scaled_time = timeit.timeit(train_z_scaled, number = 100)\n\nprint('train_raw : {}\\ntrain_scaled : {}\\ntrain_z_scaled : {}'.format(raw_time,scaled_time,z_scaled_time))",
   "execution_count": null,
   "outputs": [
    {
     "name": "stdout",
     "text": "train_raw : 0.08021430300141219\ntrain_scaled : 0.06744594201154541\ntrain_z_scaled : 0.048892212013015524\n",
     "output_type": "stream"
    }
   ]
  },
  {
   "cell_type": "markdown",
   "source": "## Transformación no lineal\n\n* **¿Por qué usarlos?**  Se utiliza para datos fuertemente sesgados, no simétricos.\n\n* **¿Hay diferentes tipos?**: Funciones no lineales, logaritmos, sigmoides, polinomios de grado mayor a 2.\n\n* **¿Cuándo usarlos?**: Antes de escalamientos lineales.\n\n### Formas de normalizar:\n\n#### tanh(x)\n\nConsideramos una distribución altamente sesgada. La idea de considerar $y = tanh(x)$ es que el rango de la función es $[-1,1]$, cuando interpretamos a $x$ como los datos originales y los datos transformados como $y$, es decir, $$x_{s} = tanh(x)$$.\n\nEn la siguiente imagen observamos cómo hace el escalamiento de los datos dependiendo de donde se tomen. Se hace un escalamiento, pero no sucede de manera homogénea.\n\n![trans](tanh.png)\n\nEl resultado es que la distribución que se obtenga podría tener un sesgo reducido y tal vez no uniforme, pero más simétrica. \n\nEl parámetro de simetrización se puede calibrar dependiendo de la función de transformación que se esté utilizando. \n\nPodemos hacer $y = tanh(\\frac{x}{a})$ y dependiendo de los valores del parámetro $a$, podríamos calibrar la transformación de los datos para que queden más simétricos.\n\n#### $\\sqrt{x}$\n\n$\\sqrt{x}$ cumple un criterio similar.\n\n![raiz](raiz.png)\n\nPodemos usar otro tipo de funciones $x^{n}$ con $n > 0$ y dependiendo de eso vamos a obtener diferentes efectos en la distribución.",
   "metadata": {
    "cell_id": "590469ec-94a8-452f-a305-83b6f98451fb",
    "tags": [],
    "deepnote_cell_height": 1501.9375,
    "deepnote_cell_type": "markdown"
   }
  },
  {
   "cell_type": "markdown",
   "source": "### Transformaciones no lineales en Python\n\n",
   "metadata": {
    "cell_id": "365a76c8-e3e3-44ba-9677-b11f4db53b39",
    "tags": [],
    "deepnote_cell_height": 62,
    "deepnote_cell_type": "markdown"
   }
  },
  {
   "cell_type": "markdown",
   "source": "En el dataset de autos usados, la distribución estaba fuertemente sesgada. Por lo que trabajaremos con este.",
   "metadata": {
    "cell_id": "cfe5611d-209e-4230-ba6f-5c1a754ea616",
    "tags": [],
    "deepnote_cell_height": 52.390625,
    "deepnote_cell_type": "markdown"
   }
  },
  {
   "cell_type": "code",
   "metadata": {
    "cell_id": "c9406036-e4a4-4463-acfa-58252eb122cb",
    "tags": [],
    "deepnote_cell_height": 81,
    "deepnote_to_be_reexecuted": false,
    "source_hash": "f2d578bb",
    "execution_start": 1645131315471,
    "execution_millis": 300,
    "deepnote_cell_type": "code"
   },
   "source": "df = pd.read_csv('cars.csv')",
   "execution_count": null,
   "outputs": []
  },
  {
   "cell_type": "code",
   "metadata": {
    "cell_id": "1ba653e5-dad3-4e39-9e31-e4879654c296",
    "tags": [],
    "deepnote_cell_height": 399.1875,
    "deepnote_to_be_reexecuted": false,
    "source_hash": "1d9343bd",
    "execution_start": 1645131335137,
    "execution_millis": 319,
    "deepnote_output_heights": [
     21.1875,
     250
    ],
    "deepnote_cell_type": "code"
   },
   "source": "df.price_usd.hist()",
   "execution_count": null,
   "outputs": [
    {
     "output_type": "execute_result",
     "execution_count": 3,
     "data": {
      "text/plain": "<AxesSubplot:>"
     },
     "metadata": {}
    },
    {
     "data": {
      "text/plain": "<Figure size 432x288 with 1 Axes>",
      "image/png": "[encoded data removed]"
     },
     "metadata": {
      "needs_background": "light",
      "image/png": {
       "width": 388,
       "height": 248
      }
     },
     "output_type": "display_data"
    }
   ]
  },
  {
   "cell_type": "markdown",
   "source": "Vamos a utilizar la transformación con $tanh(x)$. Se puede obtener también con:\n\n````\ndf.price_usd.apply(lambda x: np.tanh(x))\n````",
   "metadata": {
    "cell_id": "be286208-9d48-4167-a111-8a717aa8e458",
    "tags": [],
    "deepnote_cell_height": 107.1875,
    "deepnote_cell_type": "markdown"
   }
  },
  {
   "cell_type": "code",
   "metadata": {
    "cell_id": "3c1e0b4a-f276-4aa2-a0ac-6ab6f9e6d9dc",
    "tags": [],
    "deepnote_cell_height": 401.1875,
    "deepnote_to_be_reexecuted": false,
    "source_hash": "3cbace10",
    "execution_start": 1645131497492,
    "execution_millis": 260,
    "deepnote_output_heights": [
     21.1875,
     252
    ],
    "deepnote_cell_type": "code"
   },
   "source": "df.price_usd.apply(np.tanh).hist()",
   "execution_count": null,
   "outputs": [
    {
     "output_type": "execute_result",
     "execution_count": 8,
     "data": {
      "text/plain": "<AxesSubplot:>"
     },
     "metadata": {}
    },
    {
     "data": {
      "text/plain": "<Figure size 432x288 with 1 Axes>",
      "image/png": "[encoded data removed]"
     },
     "metadata": {
      "needs_background": "light",
      "image/png": {
       "width": 387,
       "height": 250
      }
     },
     "output_type": "display_data"
    }
   ]
  },
  {
   "cell_type": "code",
   "metadata": {
    "cell_id": "0e884a9a-dd76-4a24-8cea-cd1df0d81ebc",
    "tags": [],
    "deepnote_cell_height": 401.1875,
    "deepnote_to_be_reexecuted": false,
    "source_hash": "325c07f3",
    "execution_start": 1645131504144,
    "execution_millis": 340,
    "deepnote_output_heights": [
     21.1875,
     252
    ],
    "deepnote_cell_type": "code"
   },
   "source": "df.price_usd.apply(lambda x: np.tanh(x)).hist()",
   "execution_count": null,
   "outputs": [
    {
     "output_type": "execute_result",
     "execution_count": 9,
     "data": {
      "text/plain": "<AxesSubplot:>"
     },
     "metadata": {}
    },
    {
     "data": {
      "text/plain": "<Figure size 432x288 with 1 Axes>",
      "image/png": "[encoded data removed]"
     },
     "metadata": {
      "needs_background": "light",
      "image/png": {
       "width": 387,
       "height": 250
      }
     },
     "output_type": "display_data"
    }
   ]
  },
  {
   "cell_type": "markdown",
   "source": "Observamos que la función colapsó todo a un sólo valor, esto se debe a que la $tanh(x)$ se puede calibrar por un argumento $a$.\n\nSi tomamos $a = 10 000$.",
   "metadata": {
    "cell_id": "5752aa23-7c3b-4a40-8d5c-8db724bf8e1e",
    "tags": [],
    "deepnote_cell_height": 88.78125,
    "deepnote_cell_type": "markdown"
   }
  },
  {
   "cell_type": "code",
   "metadata": {
    "cell_id": "8ef237c9-2312-41b8-973d-86c8d27d0bd1",
    "tags": [],
    "deepnote_to_be_reexecuted": false,
    "source_hash": "1d0f2f11",
    "execution_start": 1645131624702,
    "execution_millis": 870,
    "deepnote_cell_height": 399.1875,
    "deepnote_output_heights": [
     21.1875,
     250
    ],
    "deepnote_cell_type": "code"
   },
   "source": "df.price_usd.apply(lambda x: np.tanh(x/10000)).hist()",
   "execution_count": null,
   "outputs": [
    {
     "output_type": "execute_result",
     "execution_count": 12,
     "data": {
      "text/plain": "<AxesSubplot:>"
     },
     "metadata": {}
    },
    {
     "data": {
      "text/plain": "<Figure size 432x288 with 1 Axes>",
      "image/png": "[encoded data removed]"
     },
     "metadata": {
      "needs_background": "light",
      "image/png": {
       "width": 381,
       "height": 248
      }
     },
     "output_type": "display_data"
    }
   ]
  },
  {
   "cell_type": "markdown",
   "source": "[Aquí](https://scikit-learn.org/stable/auto_examples/preprocessing/plot_map_data_to_normal.html#sphx-glr-auto-examples-preprocessing-plot-map-data-to-normal-py) podemos encontrar un ejercicio completo de como mapear datos a distribuciones normales utilizando diferentes métodos.",
   "metadata": {
    "cell_id": "75178a04-dcf1-48de-a223-39005bb90fed",
    "tags": [],
    "deepnote_cell_height": 52.390625,
    "deepnote_cell_type": "markdown"
   }
  },
  {
   "cell_type": "code",
   "metadata": {
    "cell_id": "b8a48dff-c488-4c3c-be2b-2981d89355a0",
    "tags": [],
    "deepnote_cell_height": 2647,
    "deepnote_to_be_reexecuted": false,
    "source_hash": "57b69606",
    "execution_start": 1645131963792,
    "execution_millis": 5222,
    "deepnote_output_heights": [
     570
    ],
    "deepnote_cell_type": "code"
   },
   "source": "# Author: Eric Chang <ericchang2017@u.northwestern.edu>\n#         Nicolas Hug <contact@nicolas-hug.com>\n# License: BSD 3 clause\n\nimport numpy as np\nimport matplotlib.pyplot as plt\n\nfrom sklearn.preprocessing import PowerTransformer\nfrom sklearn.preprocessing import QuantileTransformer\nfrom sklearn.model_selection import train_test_split\n\n\nN_SAMPLES = 1000\nFONT_SIZE = 6\nBINS = 30\n\n\nrng = np.random.RandomState(304)\nbc = PowerTransformer(method=\"box-cox\")\nyj = PowerTransformer(method=\"yeo-johnson\")\n# n_quantiles is set to the training set size rather than the default value\n# to avoid a warning being raised by this example\nqt = QuantileTransformer(\n    n_quantiles=500, output_distribution=\"normal\", random_state=rng\n)\nsize = (N_SAMPLES, 1)\n\n\n# lognormal distribution\nX_lognormal = rng.lognormal(size=size)\n\n# chi-squared distribution\ndf = 3\nX_chisq = rng.chisquare(df=df, size=size)\n\n# weibull distribution\na = 50\nX_weibull = rng.weibull(a=a, size=size)\n\n# gaussian distribution\nloc = 100\nX_gaussian = rng.normal(loc=loc, size=size)\n\n# uniform distribution\nX_uniform = rng.uniform(low=0, high=1, size=size)\n\n# bimodal distribution\nloc_a, loc_b = 100, 105\nX_a, X_b = rng.normal(loc=loc_a, size=size), rng.normal(loc=loc_b, size=size)\nX_bimodal = np.concatenate([X_a, X_b], axis=0)\n\n\n# create plots\ndistributions = [\n    (\"Lognormal\", X_lognormal),\n    (\"Chi-squared\", X_chisq),\n    (\"Weibull\", X_weibull),\n    (\"Gaussian\", X_gaussian),\n    (\"Uniform\", X_uniform),\n    (\"Bimodal\", X_bimodal),\n]\n\ncolors = [\"#D81B60\", \"#0188FF\", \"#FFC107\", \"#B7A2FF\", \"#000000\", \"#2EC5AC\"]\n\nfig, axes = plt.subplots(nrows=8, ncols=3, figsize=plt.figaspect(2))\naxes = axes.flatten()\naxes_idxs = [\n    (0, 3, 6, 9),\n    (1, 4, 7, 10),\n    (2, 5, 8, 11),\n    (12, 15, 18, 21),\n    (13, 16, 19, 22),\n    (14, 17, 20, 23),\n]\naxes_list = [(axes[i], axes[j], axes[k], axes[l]) for (i, j, k, l) in axes_idxs]\n\n\nfor distribution, color, axes in zip(distributions, colors, axes_list):\n    name, X = distribution\n    X_train, X_test = train_test_split(X, test_size=0.5)\n\n    # perform power transforms and quantile transform\n    X_trans_bc = bc.fit(X_train).transform(X_test)\n    lmbda_bc = round(bc.lambdas_[0], 2)\n    X_trans_yj = yj.fit(X_train).transform(X_test)\n    lmbda_yj = round(yj.lambdas_[0], 2)\n    X_trans_qt = qt.fit(X_train).transform(X_test)\n\n    ax_original, ax_bc, ax_yj, ax_qt = axes\n\n    ax_original.hist(X_train, color=color, bins=BINS)\n    ax_original.set_title(name, fontsize=FONT_SIZE)\n    ax_original.tick_params(axis=\"both\", which=\"major\", labelsize=FONT_SIZE)\n\n    for ax, X_trans, meth_name, lmbda in zip(\n        (ax_bc, ax_yj, ax_qt),\n        (X_trans_bc, X_trans_yj, X_trans_qt),\n        (\"Box-Cox\", \"Yeo-Johnson\", \"Quantile transform\"),\n        (lmbda_bc, lmbda_yj, None),\n    ):\n        ax.hist(X_trans, color=color, bins=BINS)\n        title = \"After {}\".format(meth_name)\n        if lmbda is not None:\n            title += \"\\n$\\\\lambda$ = {}\".format(lmbda)\n        ax.set_title(title, fontsize=FONT_SIZE)\n        ax.tick_params(axis=\"both\", which=\"major\", labelsize=FONT_SIZE)\n        ax.set_xlim([-3.5, 3.5])\n\n\nplt.tight_layout()\nplt.show()",
   "execution_count": null,
   "outputs": [
    {
     "data": {
      "text/plain": "<Figure size 288x576 with 24 Axes>",
      "image/png": "[encoded data removed]"
     },
     "metadata": {
      "needs_background": "light",
      "image/png": {
       "width": 285,
       "height": 568
      }
     },
     "output_type": "display_data"
    }
   ]
  },
  {
   "cell_type": "markdown",
   "source": "<a style='text-decoration:none;line-height:16px;display:flex;color:#5B5B62;padding:10px;justify-content:end;' href='https://deepnote.com?utm_source=created-in-deepnote-cell&projectId=8b8f8c16-0c57-41f8-8529-691d02522b0e' target=\"_blank\">\n<img alt='Created in deepnote.com' style='display:inline;max-height:16px;margin:0px;margin-right:7.5px;' src='data:image/svg+xml;base64,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' > </img>\nCreated in <span style='font-weight:600;margin-left:4px;'>Deepnote</span></a>",
   "metadata": {
    "tags": [],
    "created_in_deepnote_cell": true,
    "deepnote_cell_type": "markdown"
   }
  }
 ],
 "nbformat": 4,
 "nbformat_minor": 2,
 "metadata": {
  "orig_nbformat": 2,
  "deepnote": {
   "is_reactive": false
  },
  "deepnote_notebook_id": "5a99542a-67cf-4e59-9d64-d553f0263937",
  "deepnote_execution_queue": []
 }
}